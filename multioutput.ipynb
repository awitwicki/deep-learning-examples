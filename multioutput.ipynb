{
  "nbformat": 4,
  "nbformat_minor": 0,
  "metadata": {
    "colab": {
      "name": "Untitled6.ipynb",
      "provenance": [],
      "collapsed_sections": []
    },
    "kernelspec": {
      "name": "python3",
      "display_name": "Python 3"
    },
    "language_info": {
      "name": "python"
    }
  },
  "cells": [
    {
      "cell_type": "markdown",
      "metadata": {
        "id": "46xlVf1NzAl1"
      },
      "source": [
        "# Tensorflow multioutput model\n"
      ]
    },
    {
      "cell_type": "code",
      "metadata": {
        "id": "-CGCVnvTn6ZL"
      },
      "source": [
        "#@title ##**Prepare environment** { display-mode: \"form\" }\n",
        "\n",
        "from __future__ import absolute_import, division, print_function, unicode_literals\n",
        "\n",
        "# TensorFlow and tf.keras\n",
        "import tensorflow as tf\n",
        "from tensorflow import keras\n",
        "\n",
        "# Helper libraries\n",
        "import numpy as np\n",
        "import matplotlib.pyplot as plt\n",
        "\n",
        "print(\"Environment prepared for work\")"
      ],
      "execution_count": null,
      "outputs": []
    },
    {
      "cell_type": "code",
      "metadata": {
        "id": "51t4n-gUn8_F"
      },
      "source": [
        "#@title ##**Prepare dataset** { display-mode: \"form\" }\n",
        "\n",
        "mnist = tf.keras.datasets.mnist\n",
        "\n",
        "(x_train, y_train), (x_test, y_test) = mnist.load_data()\n",
        "x_train, x_test = x_train / 255.0, x_test / 255.0\n",
        "\n",
        "x_train = x_train.reshape(len(x_train), 28, 28, 1)\n",
        "x_test = x_test.reshape(len(x_test), 28, 28, 1)\n",
        "\n",
        "y_train_b = [0 if i % 2 else 1 for i in y_train]\n",
        "y_test_b = [0 if i % 2 else 1 for i in y_test]\n",
        "\n",
        "from sklearn.preprocessing import LabelEncoder\n",
        "from sklearn.preprocessing import OneHotEncoder\n",
        "\n",
        "# integer encode\n",
        "label_encoder = LabelEncoder()\n",
        "integer_encoded = label_encoder.fit_transform(y_train_b)\n",
        "\n",
        "# binary encode\n",
        "onehot_encoder = OneHotEncoder(sparse=False)\n",
        "integer_encoded = integer_encoded.reshape(len(integer_encoded), 1)\n",
        "y_train_b = onehot_encoder.fit_transform(integer_encoded)\n",
        "\n",
        "print(f'Dataset successfully prepared for work\\n'\\\n",
        "    f'Dataset contains: {len(x_train) + len(x_test)} images')"
      ],
      "execution_count": null,
      "outputs": []
    },
    {
      "cell_type": "code",
      "metadata": {
        "id": "9VJ-hShEn9Bd"
      },
      "source": [
        "#@title ##**Show dataset examples** { display-mode: \"form\" }\n",
        "\n",
        "plt.figure(figsize=(10, 10))\n",
        "for i in range(25):\n",
        "    plt.subplot(5, 5, i+1)\n",
        "    plt.xticks([])\n",
        "    plt.yticks([])\n",
        "    plt.grid(False)\n",
        "    plt.imshow(x_train[i].reshape(28, 28), cmap=plt.cm.binary)\n",
        "    label = str(y_train[i])\n",
        "    val = \"odd\" if (y_train_b[i][0] == 1) else \"even\"\n",
        "    label += \", \" + val\n",
        "    plt.xlabel(label)\n",
        "plt.show()"
      ],
      "execution_count": null,
      "outputs": []
    },
    {
      "cell_type": "markdown",
      "metadata": {
        "id": "zz7T7poNskdt"
      },
      "source": [
        "# Make model\n"
      ]
    },
    {
      "cell_type": "code",
      "metadata": {
        "id": "efjSA5xmn9EE"
      },
      "source": [
        "main_input = tf.keras.Input(shape=(28, 28, 1), name='main_input')\n",
        "\n",
        "x = tf.keras.layers.Convolution2D(32, (3, 3), input_shape = (28, 28, 1), activation='relu')(main_input)\n",
        "x = tf.keras.layers.ZeroPadding2D((1, 1))(x)\n",
        "x = tf.keras.layers.Convolution2D(64, (3, 3), activation='relu')(x)\n",
        "x = tf.keras.layers.MaxPooling2D((2, 2), strides=(2, 2))(x)\n",
        "x = tf.keras.layers.Dense(64, activation=\"relu\")(x)\n",
        "x = tf.keras.layers.Flatten()(x)\n",
        "\n",
        "numeric_out = tf.keras.layers.Dense(10, activation='softmax', name='numeric_out')(x)\n",
        "binary_out = tf.keras.layers.Dense(2, activation='sigmoid', name='binary_out')(x)\n",
        "\n",
        "model = tf.keras.Model(inputs=main_input, outputs=[numeric_out, binary_out])\n",
        "model.compile(optimizer='rmsprop', loss=['sparse_categorical_crossentropy', 'binary_crossentropy'], metrics=['accuracy'])\n",
        "model.summary()"
      ],
      "execution_count": null,
      "outputs": []
    },
    {
      "cell_type": "code",
      "metadata": {
        "id": "s8OXwo0Nw48t"
      },
      "source": [
        "#@title ##**Plot model (optional)** { display-mode: \"form\" }\n",
        "\n",
        "from keras.utils.vis_utils import plot_model\n",
        "plot_model(model, to_file='model_plot.png', show_shapes=True, show_layer_names=True)"
      ],
      "execution_count": null,
      "outputs": []
    },
    {
      "cell_type": "code",
      "metadata": {
        "id": "86fKLuVun9Q8"
      },
      "source": [
        "#@title ##**Train model** { display-mode: \"form\" }\n",
        "\n",
        "ep = model.fit(x_train, { \"numeric_out\": y_train, \"binary_out\": y_train_b}, epochs=1)"
      ],
      "execution_count": null,
      "outputs": []
    },
    {
      "cell_type": "code",
      "metadata": {
        "id": "ceSMVZGTn9Tk"
      },
      "source": [
        "#@title ##**Evaluate model (optional)** { display-mode: \"form\" }\n",
        "\n",
        "x = model.evaluate(x_train,  { \"numeric_out\": y_train, \"binary_out\": y_train_b}, verbose=2)"
      ],
      "execution_count": null,
      "outputs": []
    },
    {
      "cell_type": "markdown",
      "metadata": {
        "id": "kl3aZkkGtRJ9"
      },
      "source": [
        "# Test model"
      ]
    },
    {
      "cell_type": "code",
      "metadata": {
        "id": "6qEkhx3zn9WE"
      },
      "source": [
        "plt.figure(figsize=(10, 10))\n",
        "for i in range(25):\n",
        "    img = x_train[i]\n",
        "    pred = model.predict(img.reshape(1, 28, 28, 1))\n",
        "    label = str(np.argmax(pred[0]))\n",
        "    val = \"even\" if (np.argmax(pred[1]) == 1) else \"odd\"\n",
        "    label += \", \" + val\n",
        "    \n",
        "    plt.subplot(5,5,i+1)\n",
        "    plt.xticks([])\n",
        "    plt.yticks([])\n",
        "    plt.grid(False)\n",
        "    plt.imshow(img.reshape(28, 28), cmap=plt.cm.binary)\n",
        "    \n",
        "    plt.xlabel(label)\n",
        "plt.show()"
      ],
      "execution_count": null,
      "outputs": []
    }
  ]
}